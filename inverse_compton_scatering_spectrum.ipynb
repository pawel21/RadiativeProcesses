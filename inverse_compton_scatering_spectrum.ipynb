{
 "cells": [
  {
   "cell_type": "code",
   "execution_count": 5,
   "metadata": {
    "collapsed": true
   },
   "outputs": [],
   "source": [
    "import matplotlib.pyplot as plt\n",
    "import numpy as np\n",
    "import scipy.integrate as integrate\n",
    "import scipy.special as special\n",
    "import scipy.constants as scipy_const\n",
    "import sympy as sp\n",
    "from astropy import constants as const\n",
    "from astropy import units as u\n",
    "\n",
    "plt.rcParams.update({'font.size': 30})"
   ]
  },
  {
   "cell_type": "code",
   "execution_count": 2,
   "metadata": {},
   "outputs": [
    {
     "name": "stdout",
     "output_type": "stream",
     "text": [
      "(4.135667662e-15, 'eV s', 2.5e-23)\n",
      "6.582119513926018e-16 eV s\n",
      "(299792458.0, 'm s^-1', 0.0)\n",
      "299792458.0 m / s\n",
      "(8.6173303e-05, 'eV K^-1', 5e-11)\n",
      "8.6173303e-05 eV / K\n"
     ]
    }
   ],
   "source": [
    "h_u=scipy_const.physical_constants[\"Planck constant in eV s\"]; hbar=(h_u[0]/(2*np.pi))*u.eV*u.s\n",
    "print(h_u)\n",
    "print(hbar)\n",
    "c_u = scipy_const.physical_constants[\"speed of light in vacuum\"]; c =c_u[0]*u.m/u.s\n",
    "print(c_u)\n",
    "print(c)\n",
    "k_B_u = scipy_const.physical_constants[\"Boltzmann constant in eV/K\"]; k_B = k_B_u[0]*u.eV/u.K\n",
    "print(k_B_u)\n",
    "print(k_B)"
   ]
  },
  {
   "cell_type": "markdown",
   "metadata": {},
   "source": [
    "## Widmo fotonów rozproszonych w odwrotnym efekcie Comptona:\n",
    "\n",
    "$$ \\frac{dN_{mono}}{dtd \\epsilon_{\\gamma}} =  \\int_{\\epsilon_{min}}^{\\infty} \\frac{2 \\pi r_e^2 c}{E_e^2} \\cdot \n",
    "\\frac{n(\\epsilon)}{\\epsilon}$$\n",
    "$E_e$ - energia Elektronu, $\\epsilon$ - energia fotonów tła, $\\epsilon_{\\gamma}$ - energia fotonów gamma"
   ]
  },
  {
   "cell_type": "markdown",
   "metadata": {},
   "source": [
    "## Gęstość fotonów widma ciała doskonale czarnego o temperaturze $T$ \n",
    "\n",
    "$$ n(\\epsilon) = \\frac{1}{\\pi^2 \\hbar^3 c^3} \\cdot \\frac{\\epsilon^2}{\\exp{ \\frac{\\epsilon}{k_B T}}-1}$$"
   ]
  },
  {
   "cell_type": "code",
   "execution_count": 3,
   "metadata": {},
   "outputs": [],
   "source": [
    "def n(epsilon, T=3*u.K):\n",
    "    A = 1/((np.pi**2)*(hbar**3)*(c**3))\n",
    "    return A*((epsilon**2)/(np.exp(epsilon.value/(k_B*T).value) -1))"
   ]
  },
  {
   "cell_type": "code",
   "execution_count": 6,
   "metadata": {},
   "outputs": [
    {
     "name": "stderr",
     "output_type": "stream",
     "text": [
      "/home/pawel1/anaconda3/lib/python3.6/site-packages/ipykernel_launcher.py:3: RuntimeWarning: overflow encountered in exp\n",
      "  This is separate from the ipykernel package so we can avoid doing imports until\n"
     ]
    },
    {
     "data": {
      "image/png": "[encoded data removed]",
      "text/plain": [
       "<matplotlib.figure.Figure at 0x7f57c6c6a8d0>"
      ]
     },
     "metadata": {},
     "output_type": "display_data"
    }
   ],
   "source": [
    "%matplotlib inline\n",
    "energy_range_epsilon = k_B*np.linspace(0.01, 20000, 10000)*u.K\n",
    "density_of_photon_3K = n(energy_range_epsilon, T = 3*u.K)\n",
    "\n",
    "fig, ax0 = plt.subplots()\n",
    "ax0.loglog(energy_range_epsilon, density_of_photon_3K, 'r-', label=\"T = 3 K\")\n",
    "\n",
    "density_of_photon_300K = n(energy_range_epsilon, T = 300*u.K)\n",
    "ax0.loglog(energy_range_epsilon, density_of_photon_300K, 'b-', label=\"T = 300 K\")\n",
    "\n",
    "ax0.set_xlabel('Photon energy background [{0}]'.format(energy_range_epsilon.unit.to_string('latex_inline')))\n",
    "ax0.set_ylabel('Density of photon [{0}]'.format(density_of_photon_300K.unit.to_string('latex_inline')))\n",
    "ax0.set_ylim([1e-6, 1e22])\n",
    "plt.show()"
   ]
  },
  {
   "cell_type": "code",
   "execution_count": null,
   "metadata": {},
   "outputs": [],
   "source": []
  },
  {
   "cell_type": "code",
   "execution_count": null,
   "metadata": {
    "collapsed": true
   },
   "outputs": [],
   "source": []
  },
  {
   "cell_type": "code",
   "execution_count": null,
   "metadata": {
    "collapsed": true
   },
   "outputs": [],
   "source": []
  }
 ],
 "metadata": {
  "kernelspec": {
   "display_name": "Python 3",
   "language": "python",
   "name": "python3"
  },
  "language_info": {
   "codemirror_mode": {
    "name": "ipython",
    "version": 3
   },
   "file_extension": ".py",
   "mimetype": "text/x-python",
   "name": "python",
   "nbconvert_exporter": "python",
   "pygments_lexer": "ipython3",
   "version": "3.6.3"
  }
 },
 "nbformat": 4,
 "nbformat_minor": 2
}
