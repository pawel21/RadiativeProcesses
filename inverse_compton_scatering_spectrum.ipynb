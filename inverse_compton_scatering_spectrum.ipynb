{
 "cells": [
  {
   "cell_type": "code",
   "execution_count": 1,
   "metadata": {
    "collapsed": true
   },
   "outputs": [],
   "source": [
    "import matplotlib.pyplot as plt\n",
    "import numpy as np\n",
    "import scipy.integrate as integrate\n",
    "import scipy.special as special\n",
    "import scipy.constants as scipy_const\n",
    "import sympy as sp\n",
    "from astropy import constants as const\n",
    "from astropy import units as u\n",
    "\n",
    "plt.rcParams.update({'font.size': 30})"
   ]
  },
  {
   "cell_type": "code",
   "execution_count": 2,
   "metadata": {},
   "outputs": [
    {
     "name": "stdout",
     "output_type": "stream",
     "text": [
      "(4.135667662e-15, 'eV s', 2.5e-23)\n",
      "6.582119513926018e-16 eV s\n",
      "(299792458.0, 'm s^-1', 0.0)\n",
      "299792458.0 m / s\n",
      "(8.6173303e-05, 'eV K^-1', 5e-11)\n",
      "8.6173303e-05 eV / K\n",
      "2.8179403227e-15 m\n",
      "9.10938356e-31 kg\n"
     ]
    }
   ],
   "source": [
    "h_u=scipy_const.physical_constants[\"Planck constant in eV s\"]; hbar=(h_u[0]/(2*np.pi))*u.eV*u.s\n",
    "print(h_u)\n",
    "print(hbar)\n",
    "c_u = scipy_const.physical_constants[\"speed of light in vacuum\"]; c =(c_u[0])*u.m/u.s #in m/s\n",
    "print(c_u)\n",
    "print(c)\n",
    "k_B_u = scipy_const.physical_constants[\"Boltzmann constant in eV/K\"]; k_B = k_B_u[0]*u.eV/u.K\n",
    "print(k_B_u)\n",
    "print(k_B)\n",
    "r_e = scipy_const.physical_constants[\"classical electron radius\"]; r_e = r_e[0]*u.m #in m\n",
    "print(r_e)\n",
    "m_e = scipy_const.m_e; m_e = m_e*u.kg\n",
    "print(m_e)"
   ]
  },
  {
   "cell_type": "markdown",
   "metadata": {},
   "source": [
    "## Widmo fotonów rozproszonych w odwrotnym efekcie Comptona:\n",
    "\n",
    "$$ \\frac{dN_{mono}}{dtd \\epsilon_{\\gamma}} =  \\int_{\\epsilon_{min}}^{\\infty} \\frac{2 \\pi r_e^2 c}{E_e^2} \\cdot \n",
    "\\frac{n(\\epsilon)}{\\epsilon} \\cdot \\left[2q\\ln(q)+(1-q) \\left(1+2q+\\frac{(\\Gamma_e q)^2 }{1 + \\Gamma_e q} \\right) \\right] d \\epsilon $$\n",
    "$E_e$ - energia Elektronu, $\\epsilon$ - energia fotonów tła, $\\epsilon_{\\gamma}$ - energia fotonów gamma\n",
    "\n",
    "$$ \\Gamma_e = \\frac{4 \\epsilon E_e}{m_e^2 c^4}$$\n",
    "\n",
    "$$ q = \\frac{\\epsilon_{\\gamma}}{\\Gamma_e (E_e - \\epsilon_{\\gamma})} $$"
   ]
  },
  {
   "cell_type": "markdown",
   "metadata": {},
   "source": [
    "## Gęstość fotonów widma ciała doskonale czarnego o temperaturze $T$ \n",
    "\n",
    "$$ n(\\epsilon) = \\frac{1}{\\pi^2 \\hbar^3 c^3} \\cdot \\frac{\\epsilon^2}{\\exp{ \\frac{\\epsilon}{k_B T}}-1}$$"
   ]
  },
  {
   "cell_type": "code",
   "execution_count": null,
   "metadata": {
    "collapsed": true
   },
   "outputs": [],
   "source": [
    "def n(epsilon, T=3*u.K):\n",
    "    A = 1/((np.pi**2)*(hbar**3)*(c**3))\n",
    "    return A*((epsilon**2)/(np.exp(epsilon.value/(k_B*T).value) -1))"
   ]
  },
  {
   "cell_type": "code",
   "execution_count": null,
   "metadata": {
    "collapsed": true
   },
   "outputs": [],
   "source": [
    "%matplotlib inline\n",
    "energy_range_epsilon = k_B*np.linspace(0.01, 20000, 10000)*u.K\n",
    "density_of_photon_3K = n(energy_range_epsilon, T = 3*u.K)\n",
    "\n",
    "fig, ax0 = plt.subplots()\n",
    "ax0.loglog(energy_range_epsilon, density_of_photon_3K, 'r-', label=\"T = 3 K\")\n",
    "\n",
    "density_of_photon_300K = n(energy_range_epsilon, T = 300*u.K)\n",
    "ax0.loglog(energy_range_epsilon, density_of_photon_300K, 'b-', label=\"T = 300 K\")\n",
    "\n",
    "ax0.set_xlabel('Photon energy background [{0}]'.format(energy_range_epsilon.unit.to_string('latex_inline')))\n",
    "ax0.set_ylabel('Density of photon [{0}]'.format(density_of_photon_300K.unit.to_string('latex_inline')))\n",
    "ax0.set_ylim([1e-6, 1e22])\n",
    "plt.show()"
   ]
  },
  {
   "cell_type": "markdown",
   "metadata": {},
   "source": [
    "## Znormalizowany rozkład rozporoszonych fotonów dla różnych $\\Gamma_e$\n",
    "\n",
    "$$ \n",
    "F(E_e, \\Gamma_e, \\epsilon_{\\gamma}) = 2q\\ln(q)+(1-q) \\left(1+2q+\\frac{(\\Gamma_e q)^2 }{1 + \\Gamma_e q} \\right) \n",
    "$$\n",
    "$E_e$ - energia Elektronu, $\\epsilon$ - energia fotonów tła, $\\epsilon_{\\gamma}$ - energia fotonów gamma\n",
    "\n",
    "$ \\Gamma_e = \\frac{4 \\epsilon E_e}{m_e^2 c^4}$; $ q = \\frac{\\epsilon_{\\gamma}}{\\Gamma_e (E_e - \\epsilon_{\\gamma})} $;  $E_e = \\gamma m_e c^2$\n",
    "\n"
   ]
  },
  {
   "cell_type": "code",
   "execution_count": 41,
   "metadata": {
    "collapsed": true
   },
   "outputs": [],
   "source": [
    "def n(epsilon, T=2.7*u.K):\n",
    "    A = 1/((np.pi**2)*(hbar**3)*(c**3))\n",
    "    return A*((epsilon**2)/(np.exp(epsilon/((k_B*T).to(u.GeV)).value) -1))\n",
    "\n",
    "def F(q, Gamma_e):\n",
    "    return 2*q*np.log(q)+(1-q)*(1+2*q + ((Gamma_e*q)**2)/(1+Gamma_e*q))\n",
    "\n",
    "def dN(epsilon, epsilon_gamma, E_e):\n",
    "    A = (2*np.pi*r_e*r_e*c)/((E_e.to(u.J))**2)\n",
    "    B = n(epsilon)/epsilon\n",
    "    Gamma_e = (4*epsilon*E_e)/(((m_e*c*c).to(u.GeV))**2)\n",
    "    Gamma_e = Gamma_e.value\n",
    "    q = epsilon_gamma/(Gamma_e*(E_e-epsilon_gamma))\n",
    "    f = F(q, Gamma_e)\n",
    "    return (A*B*f).value"
   ]
  },
  {
   "cell_type": "code",
   "execution_count": null,
   "metadata": {
    "collapsed": true
   },
   "outputs": [],
   "source": []
  },
  {
   "cell_type": "code",
   "execution_count": 42,
   "metadata": {},
   "outputs": [
    {
     "name": "stdout",
     "output_type": "stream",
     "text": [
      "Warning: Cannot change to a different GUI toolkit: qt. Using qt5 instead.\n"
     ]
    }
   ],
   "source": [
    "%matplotlib qt\n",
    "plt.rcParams.update({'font.size': 30})\n",
    "\n",
    "E_e = 1e4*u.GeV\n",
    "epsilon_gamma = np.linspace(0.0001, 0.4, 6000)*(E_e)\n",
    "I = []\n",
    "b = 20*(k_B*2.7*u.K).to(u.GeV).value\n",
    "for eps in epsilon_gamma:\n",
    "    eps_min = ((eps*m_e*m_e*c*c*c*c)/(4*E_e*(E_e-eps))).to(u.GeV)\n",
    "    a = eps_min.value\n",
    "    I.append(integrate.fixed_quad(dN, a, b, args=(eps, E_e))[0])\n",
    "plt.loglog(epsilon_gamma, I, 'bo', label=\"$E_e$ = {0:2E}\".format(E_e))\n",
    "\n",
    "E_e = 1e5*u.GeV\n",
    "epsilon_gamma = np.linspace(0.0001, 0.85, 6000)*(E_e)\n",
    "I = []\n",
    "b = 20*(k_B*2.7*u.K).to(u.GeV).value\n",
    "for eps in epsilon_gamma:\n",
    "    eps_min = ((eps*m_e*m_e*c*c*c*c)/(4*E_e*(E_e-eps))).to(u.GeV)\n",
    "    a = eps_min.value\n",
    "    I.append(integrate.fixed_quad(dN, a, b, args=(eps, E_e))[0])\n",
    "plt.loglog(epsilon_gamma, I, 'r^', label=\"$E_e$ = {0:2E}\".format(E_e))\n",
    "\n",
    "E_e = 1e6*u.GeV\n",
    "epsilon_gamma = np.linspace(0.0001, 0.99, 6000)*(E_e)\n",
    "I = []\n",
    "b = 20*(k_B*2.7*u.K).to(u.GeV).value\n",
    "for eps in epsilon_gamma:\n",
    "    eps_min = ((eps*m_e*m_e*c*c*c*c)/(4*E_e*(E_e-eps))).to(u.GeV)\n",
    "    a = eps_min.value\n",
    "    I.append(integrate.fixed_quad(dN, a, b, args=(eps, E_e))[0])\n",
    "plt.loglog(epsilon_gamma, I, 'g>', label=\"$E_e$ = {0:2E}\".format(E_e))\n",
    "\n",
    "E_e = 1e7*u.GeV\n",
    "epsilon_gamma = np.linspace(0.01, 0.9999, 6000)*(E_e)\n",
    "I = []\n",
    "b = 20*(k_B*2.7*u.K).to(u.GeV).value\n",
    "for eps in epsilon_gamma:\n",
    "    eps_min = ((eps*m_e*m_e*c*c*c*c)/(4*E_e*(E_e-eps))).to(u.GeV)\n",
    "    a = eps_min.value\n",
    "    I.append(integrate.fixed_quad(dN, a, b, args=(eps, E_e))[0])\n",
    "plt.loglog(epsilon_gamma, I, 'ks', label=\"$E_e$ = {0:2E}\".format(E_e))\n",
    "\n",
    "E_e = 1e8*u.GeV\n",
    "epsilon_gamma = np.linspace(0.01, 0.99999, 6000)*(E_e)\n",
    "I = []\n",
    "b = 20*(k_B*2.7*u.K).to(u.GeV).value\n",
    "for eps in epsilon_gamma:\n",
    "    eps_min = ((eps*m_e*m_e*c*c*c*c)/(4*E_e*(E_e-eps))).to(u.GeV)\n",
    "    a = eps_min.value\n",
    "    I.append(integrate.fixed_quad(dN, a, b, args=(eps, E_e))[0])\n",
    "plt.loglog(epsilon_gamma, I, 'c^', label=\"$E_e$ = {0:2E}\".format(E_e))\n",
    "\n",
    "plt.xlabel(r\"$\\epsilon_{\\gamma}$ [GeV]\")\n",
    "plt.ylabel(r\"$\\frac{dN}{dtd \\epsilon_{\\gamma}}$\")\n",
    "plt.legend(loc=3)\n",
    "plt.show()"
   ]
  },
  {
   "cell_type": "markdown",
   "metadata": {},
   "source": [
    "## Blumenthal formula\n",
    "$$ \n",
    "F(E_e, \\Gamma_e, \\epsilon_{\\gamma}) = 2q\\ln(q)+(1+2q)(1-q) + \\frac{1}{2} \\cdot \\frac{(\\Gamma_e q)^2 }{1 + \\Gamma_e q} (1-q) \n",
    "$$\n",
    "$E_e$ - energia Elektronu, $\\epsilon$ - energia fotonów tła, $\\epsilon_{\\gamma}$ - energia fotonów gamma\n",
    "\n",
    "$ \\Gamma_e = \\frac{4 \\epsilon \\gamma}{m_e c^2}$; $ q = \\frac{E_1}{\\Gamma_e (1-E_1)} $;  $E_e = \\gamma m_e c^2$"
   ]
  },
  {
   "cell_type": "code",
   "execution_count": null,
   "metadata": {
    "collapsed": true
   },
   "outputs": [],
   "source": [
    "%matplotlib qt\n",
    "plt.rcParams.update({'font.size': 30})\n",
    "\n",
    "def f(Gamma_e, E_1):\n",
    "    q = E_1/(Gamma_e*(1-E_1))\n",
    "    return 2*q*np.log(q)+(1+2*q)*(1-q)+0.5*(((Gamma_e*q)**2)/(1+Gamma_e*q))*(1-q)\n",
    "\n",
    "Gamma_e = [1, 10]\n",
    "E_hat = np.linspace(0.0000001, 0.999, 1000000)\n",
    "for e in Gamma_e:\n",
    "    E_1 = (e*E_hat)/(1+e)\n",
    "    F = f(e, E_1)\n",
    "    plt.plot(E_hat, F, label=r\"$\\Gamma_e$ = {}\".format(e))\n",
    "plt.ylabel(\"$F(E_e, \\Gamma_e, \\epsilon_{\\gamma})$\")\n",
    "plt.xlabel(\"$\\hat{E}$\")\n",
    "plt.legend()\n",
    "plt.show()\n"
   ]
  },
  {
   "cell_type": "markdown",
   "metadata": {
    "collapsed": true
   },
   "source": [
    "$$  \\frac{dN_{mono}}{dtd \\epsilon_{\\gamma}} =  \\int_{\\epsilon_{min}}^{\\infty} \\frac{2 \\pi r_e^2 m_e c^3}{\\gamma} \\cdot \\frac{n(\\epsilon)}{\\epsilon} \\cdot   d \\epsilon \\cdot F(E_e, \\Gamma_e, \\epsilon_{\\gamma})$$\n",
    "\n",
    "$$ \n",
    "F(E_e, \\Gamma_e, \\epsilon_{\\gamma}) = 2q\\ln(q)+(1+2q)(1-q) + \\frac{1}{2} \\cdot \\frac{(\\Gamma_e q)^2 }{1 + \\Gamma_e q} (1-q) \n",
    "$$\n",
    "\n",
    "$E_e$ - energia Elektronu, $\\epsilon$ - energia fotonów tła, $\\epsilon_{\\gamma}$ - energia fotonów gamma\n",
    "\n",
    "$ \\Gamma_e = \\frac{4 \\epsilon \\gamma}{m_e c^2}$; $ q = \\frac{E_1}{\\Gamma_e (1-E_1)} $;  $E_e = \\gamma m_e c^2$; $E_1 = \\frac{\\epsilon_{\\gamma}}{E_e}$ "
   ]
  },
  {
   "cell_type": "code",
   "execution_count": null,
   "metadata": {
    "collapsed": true
   },
   "outputs": [],
   "source": [
    "def dN(epsilon, gamma, epsilon_gamma):\n",
    "    Gamma_e = (4*epsilon*gamma)/((m_e*c*c).to(u.eV))\n",
    "    E_1 = epsilon_gamma/(gamma*(m_e*c*c).to(u.eV))\n",
    "    F=f(Gamma_e.value, E_1)\n",
    "    return ((((2*np.pi*r_e*r_e*m_e*c*c*c)/gamma)*(n(epsilon)/epsilon))*F).value\n",
    "\n",
    "def n(epsilon, T=2.7*u.K):\n",
    "    A = 1/((np.pi**2)*(hbar**3)*(c**3))\n",
    "    return A*((epsilon**2)/(np.exp(epsilon/(k_B*T).value) -1))\n",
    "\n",
    "def f(Gamma_e, E_1):\n",
    "    q = E_1/(Gamma_e*(1-E_1))\n",
    "    return 2*q*np.log(q)+(1+2*q)*(1-q)+0.5*(((Gamma_e*q)**2)/(1+Gamma_e*q))*(1-q)"
   ]
  },
  {
   "cell_type": "code",
   "execution_count": null,
   "metadata": {
    "collapsed": true
   },
   "outputs": [],
   "source": [
    "%matplotlib qt5\n",
    "gamma = 1e5\n",
    "epsilon_gamma = np.linspace(0.0001, 0.01, 2000)*((m_e*c*c).to(u.eV))*gamma\n",
    "I = []\n",
    "for eps in epsilon_gamma:\n",
    "    I.append(integrate.fixed_quad(dN, (0.0001*k_B*3).value, (20*k_B*3).value, args=(gamma, eps))[0])\n",
    "plt.loglog(epsilon_gamma.to(u.GeV), I, 'bo')\n",
    "\n"
   ]
  },
  {
   "cell_type": "code",
   "execution_count": null,
   "metadata": {
    "collapsed": true
   },
   "outputs": [],
   "source": [
    "%matplotlib qt5\n",
    "plt.rcParams.update({'font.size': 30})\n",
    "\n",
    "T = 3\n",
    "gamma = 19569519\n",
    "E_e = gamma*(m_e*c*c).to(u.GeV)\n",
    "print(\"E_e [GeV] = \", E_e)\n",
    "\n",
    "epsilon_gamma = np.linspace(0.01, 0.58, 500)*((m_e*c*c).to(u.eV))*gamma\n",
    "I = []\n",
    "for eps in epsilon_gamma:\n",
    "    I.append(integrate.fixed_quad(dN, (0.0001*k_B*3).value, (30*k_B*3).value, args=(gamma, eps))[0])\n",
    "plt.loglog(epsilon_gamma.to(u.GeV), I, 'ro', label=\"$E_e$ = {0:2e}\".format(E_e))\n",
    "\n",
    "energy_cutoff = ((4/3)*2.7*k_B*3*u.K)*gamma**2\n",
    "print(\"energy cut-off: \", energy_cutoff.to(u.GeV))\n",
    "\n",
    "gamma = 195695119\n",
    "E_e = gamma*(m_e*c*c).to(u.GeV)\n",
    "print(\"E_e [GeV] = \", E_e)\n",
    "\n",
    "epsilon_gamma = np.linspace(0.01, 0.85, 500)*((m_e*c*c).to(u.eV))*gamma\n",
    "I = []\n",
    "for eps in epsilon_gamma:\n",
    "    I.append(integrate.fixed_quad(dN, (0.0001*k_B*3).value, (30*k_B*3).value, args=(gamma, eps))[0])\n",
    "plt.loglog(epsilon_gamma.to(u.GeV), I, 'ko', label=\"$E_e$ = {0:2e}\".format(E_e))\n",
    "plt.xlabel(r\"$\\epsilon_{\\gamma}$ [eV]\")\n",
    "plt.ylabel(r\"$\\frac{dN}{dtd \\epsilon_{\\gamma}}$\")\n",
    "energy_cutoff = ((4/3)*2.7*k_B*3*u.K)*gamma**2\n",
    "print(\"energy cut-off: \", energy_cutoff.to(u.GeV))\n",
    "plt.legend()\n",
    "plt.grid(True)\n",
    "plt.show()"
   ]
  },
  {
   "cell_type": "code",
   "execution_count": null,
   "metadata": {
    "collapsed": true
   },
   "outputs": [],
   "source": [
    "%matplotlib qt5\n",
    "gamma = 195695119000\n",
    "epsilon_gamma = np.linspace(0.2, 0.99999999999, 20000)*((m_e*c*c).to(u.eV))*gamma\n",
    "I = []\n",
    "for eps in epsilon_gamma:\n",
    "    I.append(integrate.fixed_quad(dN, (0.001*k_B*9).value, (20*k_B*3).value, args=(gamma, eps))[0])\n",
    "plt.loglog(epsilon_gamma.to(u.GeV), I, 'ko')\n",
    "plt.xlabel(r\"$E_{\\gamma}$ [GeV]\")\n",
    "plt.ylabel(r\"$\\frac{dN}{dtdE}$\")\n",
    "energy_cutoff = ((4/3)*2.7*k_B*3*u.K)*gamma**2\n",
    "print(\"energy cut-off: \", energy_cutoff.to(u.GeV))\n",
    "\n",
    "gamma = 1956951190000\n",
    "epsilon_gamma = np.linspace(0.2, 0.99999999999, 20000)*((m_e*c*c).to(u.eV))*gamma\n",
    "I = []\n",
    "for eps in epsilon_gamma:\n",
    "    I.append(integrate.fixed_quad(dN, (0.001*k_B*9).value, (20*k_B*3).value, args=(gamma, eps))[0])\n",
    "plt.loglog(epsilon_gamma.to(u.GeV), I, 'r^')\n",
    "plt.xlabel(r\"$E_{\\gamma}$ [GeV]\")\n",
    "plt.ylabel(r\"$\\frac{dN}{dtdE}$\")\n",
    "energy_cutoff = ((4/3)*2.7*k_B*3*u.K)*gamma**2\n",
    "print(\"energy cut-off: \", energy_cutoff.to(u.GeV))\n",
    "plt.show()"
   ]
  },
  {
   "cell_type": "code",
   "execution_count": null,
   "metadata": {
    "collapsed": true
   },
   "outputs": [],
   "source": [
    "energy_cutoff = ((4/3)*2.7*k_B*3*u.K)*gamma**2\n",
    "print(energy_cutoff.to(u.GeV))\n",
    "energy = gamma*m_e*c*c\n",
    "#print(energy.to(u.eV))\n",
    "gamma = (10**5*u.GeV)/((m_e*c*c).to(u.GeV))\n",
    "print(gamma)"
   ]
  },
  {
   "cell_type": "code",
   "execution_count": null,
   "metadata": {
    "collapsed": true
   },
   "outputs": [],
   "source": []
  },
  {
   "cell_type": "code",
   "execution_count": null,
   "metadata": {
    "collapsed": true
   },
   "outputs": [],
   "source": [
    "# in GeV\n",
    "def dN(epsilon, gamma, epsilon_gamma):\n",
    "    Gamma_e = (4*epsilon*gamma)/((m_e*c*c).to(u.GeV))\n",
    "    E_1 = epsilon_gamma/(gamma*(m_e*c*c).to(u.GeV))\n",
    "    F=f(Gamma_e.value, E_1)\n",
    "    return ((((2*np.pi*r_e*r_e*m_e*c*c*c)/gamma)*(n(epsilon)/epsilon))*F).value\n",
    "\n",
    "def n(epsilon, T=3*u.K):\n",
    "    A = 1/((np.pi**2)*(hbar**3)*(c**3))\n",
    "    return A*((epsilon**2)/(np.exp(epsilon/((k_B*T).to(u.GeV)).value) -1))\n",
    "\n",
    "def f(Gamma_e, E_1):\n",
    "    q = E_1/(Gamma_e*(1-E_1))\n",
    "    return 2*q*np.log(q)+(1+2*q)*(1-q)+0.5*(((Gamma_e*q)**2)/(1+Gamma_e*q))*(1-q)"
   ]
  },
  {
   "cell_type": "code",
   "execution_count": null,
   "metadata": {
    "collapsed": true
   },
   "outputs": [],
   "source": [
    "a = 0.0001*(k_B*3*u.K).to(u.GeV).value\n",
    "print(a)"
   ]
  },
  {
   "cell_type": "code",
   "execution_count": null,
   "metadata": {
    "collapsed": true
   },
   "outputs": [],
   "source": [
    "gamma = 1e5\n",
    "#gamma = 1956951199\n",
    "E_e = gamma*(m_e*c*c).to(u.GeV)\n",
    "print(\"E_e [GeV] = \", E_e)\n",
    "\n",
    "epsilon_gamma = np.linspace(0.0001, 0.005, 2000)*((m_e*c*c).to(u.GeV))*gamma\n",
    "I = []\n",
    "a = 0.001*(k_B*2.7*u.K).to(u.GeV).value\n",
    "b = 20*(k_B*2.7*u.K).to(u.GeV).value\n",
    "for eps in epsilon_gamma:\n",
    "    I.append(integrate.fixed_quad(dN, a, b, args=(gamma, eps))[0])\n",
    "plt.loglog(epsilon_gamma, I, 'bo')\n",
    "plt.show()"
   ]
  },
  {
   "cell_type": "code",
   "execution_count": null,
   "metadata": {
    "collapsed": true
   },
   "outputs": [],
   "source": []
  },
  {
   "cell_type": "code",
   "execution_count": null,
   "metadata": {
    "collapsed": true
   },
   "outputs": [],
   "source": []
  }
 ],
 "metadata": {
  "kernelspec": {
   "display_name": "Python 3",
   "language": "python",
   "name": "python3"
  },
  "language_info": {
   "codemirror_mode": {
    "name": "ipython",
    "version": 3
   },
   "file_extension": ".py",
   "mimetype": "text/x-python",
   "name": "python",
   "nbconvert_exporter": "python",
   "pygments_lexer": "ipython3",
   "version": "3.6.3"
  }
 },
 "nbformat": 4,
 "nbformat_minor": 2
}
